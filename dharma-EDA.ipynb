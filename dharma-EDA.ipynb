{
 "cells": [
  {
   "cell_type": "code",
   "execution_count": 1,
   "id": "7ef058ad-a342-49db-9e00-ce76d9c50234",
   "metadata": {},
   "outputs": [],
   "source": [
    "import sys, os\n",
    "import json\n",
    "import pandas as pd\n",
    "from tqdm import tqdm\n",
    "import matplotlib.pyplot as plt\n",
    "import numpy as np\n",
    "\n",
    "\n",
    "sys.path.append(sys.path[0])\n",
    "from src.aws_download import download_from_s3\n",
    "from src.dharma_preprocessing import *\n",
    "from src.agent import MyAgent\n",
    "from src.openai_inference import *\n",
    "\n",
    "Agent = MyAgent()"
   ]
  },
  {
   "cell_type": "markdown",
   "id": "29e9d59b-f5c1-4a36-b30d-5313b15db4d6",
   "metadata": {},
   "source": [
    "## Step 0: Download `Dharma Overground` exported data from AWS S3 Bucket\n",
    "Exported and cleaned data from the [Dharma Overground](https://www.dharmaoverground.org/), publically hosted in an AWS S3 bucket."
   ]
  },
  {
   "cell_type": "code",
   "execution_count": 2,
   "id": "fbe70eb7-b998-49e5-b30c-80bbe4aa62bf",
   "metadata": {},
   "outputs": [
    {
     "name": "stdout",
     "output_type": "stream",
     "text": [
      "./DHO_CLEANED.csv already exists. Skipping download.\n",
      "n message threads == 16824\n",
      "n unique users == 4472\n",
      "n total posts == 171261\n"
     ]
    }
   ],
   "source": [
    "### DOWNLOAD THE CLEANED DHARMA OVERGROUND DATA\n",
    "download_from_s3(\n",
    "    bucket_name=\"dharma-overground-export\", \n",
    "    object_key=\"DHO_CLEANED.csv\", \n",
    "    local_file_path=\"./DHO_CLEANED.csv\"\n",
    ")\n",
    "\n",
    "### FIT DATA INTO PANDAS DF\n",
    "file_path = \"./DHO_CLEANED.csv\"\n",
    "dharma_df = pd.read_csv(file_path, sep='\\t', low_memory=False, on_bad_lines='skip')\n",
    "\n",
    "### REPORT DATA INSIGHTS\n",
    "print(f\"n message threads == {len(set(dharma_df['thread_id']))}\")\n",
    "print(f\"n unique users == {len(set(dharma_df['user_id']))}\")\n",
    "print(f\"n total posts == {len(dharma_df)}\")\n"
   ]
  },
  {
   "cell_type": "markdown",
   "id": "28cf8d45-2ab4-4f84-bd92-b6c4437b80ba",
   "metadata": {},
   "source": [
    "## Step 1: Organizing the data into message threads\n",
    "Taking this table, we'll create message threads tagged with user IDs in the order of conversation flow..."
   ]
  },
  {
   "cell_type": "code",
   "execution_count": 3,
   "id": "bda2eb7c-852c-40c4-89cb-b82645f62124",
   "metadata": {},
   "outputs": [
    {
     "name": "stdout",
     "output_type": "stream",
     "text": [
      "./dho_message_threads.json already exists. Reading data.\n",
      "Filtered 6503 threads out of 16824 total message threads.\n",
      "38.7% of original threads remain in filtered dataset.\n",
      "Token length range: 1000 to 9000\n"
     ]
    }
   ],
   "source": [
    "### ORGANIZE DATAFRAME INTO A COLLECTION OF TXT MESSAGE THREADS\n",
    "dharma_threads = structure_dharma(dharma_df, force_rebuild=False)\n",
    "\n",
    "### VISUALIZE THE TOKEN LEN DISTRIBUTION AMONGST THE MESSAGE THREADS\n",
    "# visualize_token_length_distribution(dharma_threads)\n",
    "\n",
    "### SELECT A TOKEN LENGTH SUBSET RANGE\n",
    "selected_dharma_threads = filter_threads_by_token_length(dharma_threads, min_tokens=1000, max_tokens=9000)"
   ]
  },
  {
   "cell_type": "markdown",
   "id": "038af471-a694-4656-a4bb-69619571d8d2",
   "metadata": {},
   "source": [
    "## Step 2: Pull a subset from the dataset based on token count of the complete thread\n",
    "This will demonstrate the following methods with a quality excerpt from the complete Dharma Overground, and ensure all threads can be provided to fit within GPT-4o's context window."
   ]
  },
  {
   "cell_type": "markdown",
   "id": "fb678a49-56eb-4d1d-9b61-9db030d05e45",
   "metadata": {},
   "source": [
    "# Step 3: Knowledge Graph Generation\n",
    "Given the message threads that have now been structured and selected, use GPT-4o with structured API outputs to generate a knowledge graph of each thread."
   ]
  },
  {
   "cell_type": "code",
   "execution_count": 4,
   "id": "06447f1d-8856-4038-95c5-1bab93d3ce0d",
   "metadata": {},
   "outputs": [],
   "source": [
    "### SELECT A TESTING SUBSET OF MESSAGES\n",
    "# subselected_message_threads = Agent.KG.select_random_threads(selected_dharma_threads, subset_size=99)\n",
    "\n",
    "### WEAVE THE META-NETWORK\n",
    "# dharma_network, network_cost = await Agent.KG.weave_meta_net(subselected_message_threads, network_name=None)\n",
    "\n",
    "### VISUALIZE THE NETWORK\n",
    "graph_html = Agent.KG.generate_knowledge_graph_html('knowledge_graph')"
   ]
  },
  {
   "cell_type": "code",
   "execution_count": null,
   "id": "ff7c547c-9bf4-4400-b8a7-6fd7c88e580e",
   "metadata": {},
   "outputs": [],
   "source": []
  },
  {
   "cell_type": "code",
   "execution_count": null,
   "id": "8cefc522-2fcf-4182-80aa-c275181af6b7",
   "metadata": {},
   "outputs": [],
   "source": []
  },
  {
   "cell_type": "code",
   "execution_count": null,
   "id": "f1ef3178-9f1b-4ad4-b253-c0616db4b7b3",
   "metadata": {},
   "outputs": [],
   "source": []
  },
  {
   "cell_type": "code",
   "execution_count": null,
   "id": "35004120-13a3-4496-8d30-0d206d5d2f32",
   "metadata": {},
   "outputs": [],
   "source": []
  },
  {
   "cell_type": "code",
   "execution_count": null,
   "id": "d81262af-537b-4375-befc-bcfa2c202b29",
   "metadata": {},
   "outputs": [],
   "source": []
  },
  {
   "cell_type": "code",
   "execution_count": null,
   "id": "d7382d3f-943b-418f-8fa8-130478cb64a7",
   "metadata": {},
   "outputs": [],
   "source": []
  }
 ],
 "metadata": {
  "kernelspec": {
   "display_name": "Python [conda env:knowledge-graph] *",
   "language": "python",
   "name": "conda-env-knowledge-graph-py"
  },
  "language_info": {
   "codemirror_mode": {
    "name": "ipython",
    "version": 3
   },
   "file_extension": ".py",
   "mimetype": "text/x-python",
   "name": "python",
   "nbconvert_exporter": "python",
   "pygments_lexer": "ipython3",
   "version": "3.12.5"
  }
 },
 "nbformat": 4,
 "nbformat_minor": 5
}
